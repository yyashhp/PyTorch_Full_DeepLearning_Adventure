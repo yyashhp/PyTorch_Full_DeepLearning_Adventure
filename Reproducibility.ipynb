{
 "cells": [
  {
   "cell_type": "code",
   "execution_count": 1,
   "id": "250cab0c",
   "metadata": {},
   "outputs": [],
   "source": [
    "import torch\n",
    "import numpy as np"
   ]
  },
  {
   "cell_type": "markdown",
   "id": "0cf8fcd1",
   "metadata": {},
   "source": [
    "In short, how a neural network learns:\n",
    "\n",
    "Start with random numbers -> tensor ops -> update random numbers to try and make them better representations of the data -> again -> ...\n"
   ]
  },
  {
   "cell_type": "markdown",
   "id": "52321422",
   "metadata": {},
   "source": [
    "# Reproducibility\n",
    "To reduce randomness in neural networks and PyTorch comes the concept of a random seed\n",
    "\n",
    "The random seed \"flavors\" the randomness"
   ]
  },
  {
   "cell_type": "code",
   "execution_count": 2,
   "id": "fa29f7dc",
   "metadata": {},
   "outputs": [
    {
     "data": {
      "text/plain": [
       "(tensor([[0.7931, 0.8946, 0.5078, 0.4376],\n",
       "         [0.8084, 0.7456, 0.2153, 0.0725],\n",
       "         [0.1556, 0.9447, 0.8282, 0.6178]]),\n",
       " tensor([[0.6752, 0.5352, 0.7019, 0.7061],\n",
       "         [0.9253, 0.2890, 0.3756, 0.3506],\n",
       "         [0.8652, 0.0077, 0.7550, 0.6680]]),\n",
       " tensor([[False, False, False, False],\n",
       "         [False, False, False, False],\n",
       "         [False, False, False, False]]))"
      ]
     },
     "execution_count": 2,
     "metadata": {},
     "output_type": "execute_result"
    }
   ],
   "source": [
    "random_tensor_A = torch.rand(3,4)\n",
    "random_tensor_B = torch.rand(3,4)\n",
    "random_tensor_A, random_tensor_B, random_tensor_A == random_tensor_B"
   ]
  },
  {
   "cell_type": "code",
   "execution_count": 5,
   "id": "8038d2e4",
   "metadata": {},
   "outputs": [
    {
     "data": {
      "text/plain": [
       "(tensor([[0.2919, 0.2857, 0.4021, 0.4645],\n",
       "         [0.9503, 0.2564, 0.6645, 0.8609],\n",
       "         [0.3538, 0.3347, 0.7285, 0.5794]]),\n",
       " tensor([[0.2919, 0.2857, 0.4021, 0.4645],\n",
       "         [0.9503, 0.2564, 0.6645, 0.8609],\n",
       "         [0.3538, 0.3347, 0.7285, 0.5794]]),\n",
       " tensor([[True, True, True, True],\n",
       "         [True, True, True, True],\n",
       "         [True, True, True, True]]))"
      ]
     },
     "execution_count": 5,
     "metadata": {},
     "output_type": "execute_result"
    }
   ],
   "source": [
    "#Set a random seed\n",
    "RANDOM_SEED = 77\n",
    "torch.manual_seed(RANDOM_SEED)\n",
    "\n",
    "random_tensor_C = torch.rand(3,4)\n",
    "torch.manual_seed(RANDOM_SEED)\n",
    "random_tensor_D = torch.rand(3,4)\n",
    "\n",
    "random_tensor_C, random_tensor_D, random_tensor_C == random_tensor_D"
   ]
  },
  {
   "cell_type": "code",
   "execution_count": null,
   "id": "63cd4c45",
   "metadata": {},
   "outputs": [],
   "source": []
  }
 ],
 "metadata": {
  "kernelspec": {
   "display_name": "Python 3 (ipykernel)",
   "language": "python",
   "name": "python3"
  },
  "language_info": {
   "codemirror_mode": {
    "name": "ipython",
    "version": 3
   },
   "file_extension": ".py",
   "mimetype": "text/x-python",
   "name": "python",
   "nbconvert_exporter": "python",
   "pygments_lexer": "ipython3",
   "version": "3.9.12"
  }
 },
 "nbformat": 4,
 "nbformat_minor": 5
}
