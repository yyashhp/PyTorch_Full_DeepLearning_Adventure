{
 "cells": [
  {
   "cell_type": "markdown",
   "id": "55e6bd84",
   "metadata": {},
   "source": [
    "An example PyTorch end-to-end workflow"
   ]
  },
  {
   "cell_type": "markdown",
   "id": "d6d0939c",
   "metadata": {},
   "source": [
    " ## What is being covered\n",
    " **Preparation and loading of data\n",
    " \n",
    " **model building\n",
    " \n",
    " **model fitting (training)\n",
    " \n",
    " **model predictions and evaluations\n",
    " \n",
    " **saving and loading a model\n",
    " \n",
    " **putting it all together"
   ]
  },
  {
   "cell_type": "code",
   "execution_count": 1,
   "id": "afb2d1c0",
   "metadata": {},
   "outputs": [
    {
     "data": {
      "text/plain": [
       "'2.0.0'"
      ]
     },
     "execution_count": 1,
     "metadata": {},
     "output_type": "execute_result"
    }
   ],
   "source": [
    "import torch\n",
    "from torch import nn #nn contains all of PyTorch's building blocks for neural networks\n",
    "import matplotlib.pyplot as plt\n",
    "\n",
    "torch.__version__"
   ]
  },
  {
   "cell_type": "code",
   "execution_count": 2,
   "id": "979e3d3b",
   "metadata": {},
   "outputs": [],
   "source": [
    "## Data Prep and loading\n",
    "#ML is a game of two parts, getting data into numerical representation, and building model to learn patterns in that representation\n",
    "#Let's create some known data using the linear regression formula"
   ]
  },
  {
   "cell_type": "code",
   "execution_count": 3,
   "id": "68ce431f",
   "metadata": {},
   "outputs": [
    {
     "data": {
      "text/plain": [
       "(tensor([[0.0000],\n",
       "         [0.0200],\n",
       "         [0.0400],\n",
       "         [0.0600],\n",
       "         [0.0800],\n",
       "         [0.1000],\n",
       "         [0.1200],\n",
       "         [0.1400],\n",
       "         [0.1600],\n",
       "         [0.1800]]),\n",
       " tensor([[0.3000],\n",
       "         [0.3140],\n",
       "         [0.3280],\n",
       "         [0.3420],\n",
       "         [0.3560],\n",
       "         [0.3700],\n",
       "         [0.3840],\n",
       "         [0.3980],\n",
       "         [0.4120],\n",
       "         [0.4260]]))"
      ]
     },
     "execution_count": 3,
     "metadata": {},
     "output_type": "execute_result"
    }
   ],
   "source": [
    "#Creating known parameters\n",
    "weight = 0.7\n",
    "bias = 0.3\n",
    "start = 0\n",
    "end = 1\n",
    "step = 0.02\n",
    "X = torch.arange(start, end, step).unsqueeze(dim = 1)\n",
    "y = weight*X +bias\n",
    "X[:10], y[:10]"
   ]
  },
  {
   "cell_type": "code",
   "execution_count": 4,
   "id": "7b2322b0",
   "metadata": {},
   "outputs": [
    {
     "data": {
      "text/plain": [
       "(40, 40, 10, 10)"
      ]
     },
     "execution_count": 4,
     "metadata": {},
     "output_type": "execute_result"
    }
   ],
   "source": [
    "#Splitting data into test and train sets\n",
    "train_split = int(0.8 * len(X))\n",
    "X_train, y_train = X[:train_split], y[:train_split]\n",
    "X_test, y_test, = X[train_split:], y[train_split:]\n",
    "\n",
    "len(X_train), len(y_train), len(X_test), len(y_test)"
   ]
  },
  {
   "cell_type": "code",
   "execution_count": 5,
   "id": "dda7c60f",
   "metadata": {},
   "outputs": [],
   "source": [
    "#Data visualization\n",
    "def plot_predictions(train_data = X_train,\n",
    "                     train_labels = y_train,\n",
    "                     test_data = X_test,\n",
    "                     test_labels = y_test,\n",
    "                     predictions = None):\n",
    "    '''plots training and test data, and compares predictions\n",
    "    '''\n",
    "    plt.figure(figsize =(10,7))\n",
    "    \n",
    "    #plot training data in blue\n",
    "    plt.scatter(train_data, train_labels, c=\"b\", s=4, label = \"training data\")\n",
    "    \n",
    "    #plot test data in green\n",
    "    plt.scatter(test_data, test_labels, c=\"g\", s=4, label = \"testing data\")\n",
    "    \n",
    "    \n",
    "    #If there are predictions, compare them\n",
    "    if predictions is not None:\n",
    "        plt.scatter(test_data, predictions, c=\"r\", label=\"Predictions\")\n",
    "    \n",
    "    #Show the legend\n",
    "    plt.legend(prop={'size': 14})"
   ]
  },
  {
   "cell_type": "code",
   "execution_count": 6,
   "id": "506d3b0d",
   "metadata": {},
   "outputs": [
    {
     "data": {
      "image/png": "[encoded data removed]",
      "text/plain": [
       "<Figure size 720x504 with 1 Axes>"
      ]
     },
     "metadata": {
      "needs_background": "light"
     },
     "output_type": "display_data"
    }
   ],
   "source": [
    " plot_predictions()"
   ]
  },
  {
   "cell_type": "code",
   "execution_count": 7,
   "id": "c876dc0c",
   "metadata": {},
   "outputs": [],
   "source": [
    "# 2. build PyTorch model"
   ]
  },
  {
   "cell_type": "code",
   "execution_count": 8,
   "id": "8fc90e7b",
   "metadata": {},
   "outputs": [],
   "source": [
    "#Create linear regression model class\n",
    "#model starts with random values for weight and bias\n",
    "#looks at training data and adjust the random values to better represent the data\n",
    "#through two main algos\n",
    "    #gradient descent\n",
    "    #back propogation\n",
    "\n",
    "class LinearRegressionModel(nn.Module): #<- almost everything from PyTorch inherits from nn.Module\n",
    "    def __init__(self):\n",
    "        super().__init__()\n",
    "        self.weights = nn.Parameter(torch.randn(1,\n",
    "                                               requires_grad = True,\n",
    "                                               dtype = torch.float))\n",
    "        self.bias = nn.Parameter(torch.randn(1,\n",
    "                                           requires_grad = True, #<- allows PyTorch to track the gradients of this specific paramter for gradient descent\n",
    "                                           dtype = torch.float))\n",
    "        #Forward method to define the computation in the model\n",
    "        \n",
    "    def forward(self, x: torch.Tensor) -> torch.Tensor: #<- any subclass of nn.Module needs to override forward()\n",
    "        return self.weights * x + self.bias #linear regression formula\n",
    "    #x is the input data\n",
    "    \n",
    "\n",
    "    "
   ]
  },
  {
   "cell_type": "markdown",
   "id": "d589f074",
   "metadata": {},
   "source": [
    "The model:\n",
    "Starts with random values\n",
    "*looks at training data to see if it can adjust the random values to fit the data\n",
    "**through two main algos, gradient descent, back propogation"
   ]
  },
  {
   "cell_type": "markdown",
   "id": "077c6b64",
   "metadata": {},
   "source": [
    "##PyTorch model building essentials\n",
    "**torch.nn contains all of the buildings for computational graphs\n",
    "\n",
    "**torch.autograd() is used to track the gradients of the parameters\n",
    "\n",
    "**torch.nn.Parameter - what parameters whould our model try and learn, often a PyTorch layer from torch.nn will set these for us\n",
    "\n",
    "**torch.nn.Module - The base class for all neural network modules. If you sublcass it, you should write forward()\n",
    "\n",
    "**torch.optim()- this is where the optimizers in PyTorch live, and they will help with the gradient descent\n",
    "\n",
    "**def forward() = all nn.Module subclasses are required to overwrite forward(). This method defines what happens in the forward computation"
   ]
  },
  {
   "cell_type": "code",
   "execution_count": 9,
   "id": "a4bc59e5",
   "metadata": {},
   "outputs": [
    {
     "data": {
      "text/plain": [
       "[Parameter containing:\n",
       " tensor([0.3367], requires_grad=True),\n",
       " Parameter containing:\n",
       " tensor([0.1288], requires_grad=True)]"
      ]
     },
     "execution_count": 9,
     "metadata": {},
     "output_type": "execute_result"
    }
   ],
   "source": [
    " ###checking the contents of the built model\n",
    "    \n",
    "#.parameters() shows the details of the model\n",
    "\n",
    "torch.manual_seed(42)\n",
    "\n",
    "#create an instance of the linear regression model\n",
    "\n",
    "model_0 = LinearRegressionModel()\n",
    "list(model_0.parameters())\n",
    "#model_0.weights.dtype\n"
   ]
  },
  {
   "cell_type": "code",
   "execution_count": 10,
   "id": "90fae814",
   "metadata": {},
   "outputs": [
    {
     "data": {
      "text/plain": [
       "OrderedDict([('weights', tensor([0.3367])), ('bias', tensor([0.1288]))])"
      ]
     },
     "execution_count": 10,
     "metadata": {},
     "output_type": "execute_result"
    }
   ],
   "source": [
    "#List named parameters\n",
    "model_0.state_dict()"
   ]
  },
  {
   "cell_type": "code",
   "execution_count": 11,
   "id": "4adfc266",
   "metadata": {},
   "outputs": [
    {
     "data": {
      "text/plain": [
       "(0.7, 0.3)"
      ]
     },
     "execution_count": 11,
     "metadata": {},
     "output_type": "execute_result"
    }
   ],
   "source": [
    "weight, bias"
   ]
  },
  {
   "cell_type": "code",
   "execution_count": 12,
   "id": "ad24ba6b",
   "metadata": {},
   "outputs": [],
   "source": [
    "###making prediction using 'torch.inference_mode()'\n",
    "\n",
    "#To check our model's predictive power, lets see how well it predicts ytest based on xtest\n",
    "\n",
    "#When we pass data through the model, it goes and runs through the forward() method"
   ]
  },
  {
   "cell_type": "code",
   "execution_count": 13,
   "id": "21a66667",
   "metadata": {},
   "outputs": [
    {
     "data": {
      "text/plain": [
       "(tensor([[0.8000],\n",
       "         [0.8200],\n",
       "         [0.8400],\n",
       "         [0.8600],\n",
       "         [0.8800],\n",
       "         [0.9000],\n",
       "         [0.9200],\n",
       "         [0.9400],\n",
       "         [0.9600],\n",
       "         [0.9800]]),\n",
       " tensor([[0.8600],\n",
       "         [0.8740],\n",
       "         [0.8880],\n",
       "         [0.9020],\n",
       "         [0.9160],\n",
       "         [0.9300],\n",
       "         [0.9440],\n",
       "         [0.9580],\n",
       "         [0.9720],\n",
       "         [0.9860]]))"
      ]
     },
     "execution_count": 13,
     "metadata": {},
     "output_type": "execute_result"
    }
   ],
   "source": [
    "X_test, y_test\n",
    "    "
   ]
  },
  {
   "cell_type": "code",
   "execution_count": 14,
   "id": "c8ce7799",
   "metadata": {},
   "outputs": [
    {
     "data": {
      "text/plain": [
       "tensor([[0.3982],\n",
       "        [0.4049],\n",
       "        [0.4116],\n",
       "        [0.4184],\n",
       "        [0.4251],\n",
       "        [0.4318],\n",
       "        [0.4386],\n",
       "        [0.4453],\n",
       "        [0.4520],\n",
       "        [0.4588]])"
      ]
     },
     "execution_count": 14,
     "metadata": {},
     "output_type": "execute_result"
    }
   ],
   "source": [
    "with torch.inference_mode():   #inference mode removes the gradient tracking, to avoid updating model while testing\n",
    "    y_preds = model_0(X_test)\n",
    "y_preds\n",
    "\n",
    "#this can save time since there is no longer tracking of all tensors"
   ]
  },
  {
   "cell_type": "code",
   "execution_count": 15,
   "id": "af344233",
   "metadata": {},
   "outputs": [
    {
     "data": {
      "image/png": "[encoded data removed]",
      "text/plain": [
       "<Figure size 720x504 with 1 Axes>"
      ]
     },
     "metadata": {
      "needs_background": "light"
     },
     "output_type": "display_data"
    }
   ],
   "source": [
    "#As you can see, the prediction was pretty bad. Let's visualize them\n",
    "plot_predictions(predictions=y_preds)"
   ]
  },
  {
   "cell_type": "markdown",
   "id": "30ab133d",
   "metadata": {},
   "source": [
    "# Training a model\n",
    "Purpose is to make the model's random parameter such that they fit the data \n",
    "\n",
    "**Make the parameters a better representation of the dataset\n",
    "\n",
    "**One way to measure how poor or how wrong the model is predicting, is to use a loss function/criterions/cost function\n",
    "\n",
    "**Loss function: **A function to measure how wrong aa model's predictions are to the ideal output. Lower is better\n",
    "\n",
    "**We Also need an Optimizer: Takes into account the loss of a model and adjust the model's parameters (eg: weight and bias) (To improve loss function)\n",
    "\n",
    "**In PyTorch, we need:\n",
    "*Training Loop\n",
    "*Testing Loop"
   ]
  },
  {
   "cell_type": "code",
   "execution_count": 16,
   "id": "ed0c0545",
   "metadata": {},
   "outputs": [
    {
     "data": {
      "text/plain": [
       "OrderedDict([('weights', tensor([0.3367])), ('bias', tensor([0.1288]))])"
      ]
     },
     "execution_count": 16,
     "metadata": {},
     "output_type": "execute_result"
    }
   ],
   "source": [
    "model_0.state_dict( )"
   ]
  },
  {
   "cell_type": "code",
   "execution_count": 17,
   "id": "eedaa394",
   "metadata": {},
   "outputs": [],
   "source": [
    "#L1Loss is used for Mean Absolute Error for a loss function\n",
    "\n",
    "loss_fn = nn.L1Loss()\n",
    "\n",
    "#Setting up an optimizer\n",
    "#Using SGD, a stochastic gradient descent, random gradient descent\n",
    "optimizer = torch.optim.SGD(params =model_0.parameters(),\n",
    "                           lr=0.01) #lr = learning rate, a very important hyperparamters"
   ]
  },
  {
   "cell_type": "markdown",
   "id": "929dad03",
   "metadata": {},
   "source": [
    "Q: Which loss function and optimizer should I use?\n",
    "\n",
    "A: This will be problem specific. With experience, you'll get and idea of what works and what doesn't with your particular problem set\n",
    "\n",
    "For a regression problem like ours, a loss function of nn.L1Loss()\n",
    "and an optimizer like torch.optim.SGF() will suffice.\n",
    "\n",
    "For a classification problem, you'll like wnat to use a loss function of nn.BCELoss() (Binary cross entropy loss)"
   ]
  },
  {
   "cell_type": "markdown",
   "id": "668bf6a5",
   "metadata": {},
   "source": [
    "##building a training loop and testing loop\n",
    "\n",
    "A couple of things we need in a training loop:\n",
    "0. loop through the data\n",
    "1. forward pass (this involves data moving through the models 'forward()' functions to make proedictions on data - also called forward propogation\n",
    "2. Calculate the loss (compare forward pass predictions to ground truth labels\n",
    "3. Optimizer zero grad\n",
    "4. Loss backward- move backwards through the network to calculate the gradients of each of the parameters of our model with respect to the loss (**back propogation**)\n",
    "5. Optimizer step- use the optimizer to adjust our model's parameters to try and improve the loss (**Gradient descent**)\n",
    "\n",
    "**Gradient is a slope, model aims to have a gradient of zero, meaning loss will be zero (Or as minimal as possible)\n"
   ]
  },
  {
   "cell_type": "code",
   "execution_count": 18,
   "id": "6c56754f",
   "metadata": {},
   "outputs": [
    {
     "data": {
      "text/plain": [
       "[Parameter containing:\n",
       " tensor([0.3367], requires_grad=True),\n",
       " Parameter containing:\n",
       " tensor([0.1288], requires_grad=True)]"
      ]
     },
     "execution_count": 18,
     "metadata": {},
     "output_type": "execute_result"
    }
   ],
   "source": [
    "list(model_0.parameters())"
   ]
  },
  {
   "cell_type": "code",
   "execution_count": 19,
   "id": "f38efc3a",
   "metadata": {},
   "outputs": [],
   "source": [
    "#an epoch is one loop through the data... (This is a hyperparameter because we've set it ourself)\n",
    "torch.manual_seed(42)\n",
    "\n",
    "epochs = 200\n",
    "\n",
    "#Track different values\n",
    "epoch_count = []\n",
    "\n",
    "loss_values = []\n",
    "\n",
    "test_loss_values = []\n",
    "\n",
    "\n",
    "###Training\n",
    "#0 Loop through the data\n",
    "for epoch in range(epochs):\n",
    "    #Set the model to training mode\n",
    "    model_0.train() #Train mode in PyTroch sets all paramters that require gradients to require gradients\n",
    "    \n",
    "    #1. Forward Pass\n",
    "    y_pred = model_0(X_train)\n",
    "    \n",
    "    #2. Calculate the Loss\n",
    "    loss = loss_fn(y_pred, y_train)\n",
    "    \n",
    "    #print(f\"Loss: {loss}\")\n",
    "    \n",
    "    #3. Optimizer zero grad\n",
    "    \n",
    "    optimizer.zero_grad()\n",
    "\n",
    "    \n",
    "    #4. Perform backpropogation on the loss with respect to the paramters of the model\n",
    "    loss.backward()\n",
    "    \n",
    "    #5. Step the optimizer (Perform gradient descent)\n",
    "    optimizer.step() #by default how the optimizer changes will accumulate through the loop so... we have to zero them above in step 3 for the next iteration of the loop\n",
    "    \n",
    "    model_0.eval() #Turns off gradient tracking\n",
    "    \n",
    "    \n",
    "    ##Testing\n",
    "    model_0.eval() #turns off different settings in the model not needed for evaluation/testing (dropout/batch norm layers)\n",
    "    with torch.inference_mode(): #turns of gradeint tracking & a couple more things behind the scenes\n",
    "        #1. do the forward pass\n",
    "        test_pred = model_0(X_test)\n",
    "        \n",
    "        #2. calculate the loss\n",
    "        test_loss = loss_fn(test_pred, y_test)\n",
    "    \n",
    "    #Print out what's happening\n",
    "    if epoch % 10 == 0:\n",
    "        epoch_count.append(epoch)\n",
    "        loss_values.append(loss)\n",
    "        test_loss_values.append(test_loss)\n",
    "        #print(f\"Epoch: {epoch} | Loss: {loss} | Test loss: {test_loss}\")\n",
    "    #Print out model state_dict()\n",
    "        #print(model_0.state_dict())\n",
    "                   \n"
   ]
  },
  {
   "cell_type": "code",
   "execution_count": 20,
   "id": "f693a19a",
   "metadata": {},
   "outputs": [
    {
     "data": {
      "text/plain": [
       "([0,\n",
       "  10,\n",
       "  20,\n",
       "  30,\n",
       "  40,\n",
       "  50,\n",
       "  60,\n",
       "  70,\n",
       "  80,\n",
       "  90,\n",
       "  100,\n",
       "  110,\n",
       "  120,\n",
       "  130,\n",
       "  140,\n",
       "  150,\n",
       "  160,\n",
       "  170,\n",
       "  180,\n",
       "  190],\n",
       " [tensor(0.3129, grad_fn=<MeanBackward0>),\n",
       "  tensor(0.1977, grad_fn=<MeanBackward0>),\n",
       "  tensor(0.0891, grad_fn=<MeanBackward0>),\n",
       "  tensor(0.0531, grad_fn=<MeanBackward0>),\n",
       "  tensor(0.0454, grad_fn=<MeanBackward0>),\n",
       "  tensor(0.0417, grad_fn=<MeanBackward0>),\n",
       "  tensor(0.0382, grad_fn=<MeanBackward0>),\n",
       "  tensor(0.0348, grad_fn=<MeanBackward0>),\n",
       "  tensor(0.0313, grad_fn=<MeanBackward0>),\n",
       "  tensor(0.0279, grad_fn=<MeanBackward0>),\n",
       "  tensor(0.0245, grad_fn=<MeanBackward0>),\n",
       "  tensor(0.0210, grad_fn=<MeanBackward0>),\n",
       "  tensor(0.0176, grad_fn=<MeanBackward0>),\n",
       "  tensor(0.0142, grad_fn=<MeanBackward0>),\n",
       "  tensor(0.0107, grad_fn=<MeanBackward0>),\n",
       "  tensor(0.0073, grad_fn=<MeanBackward0>),\n",
       "  tensor(0.0039, grad_fn=<MeanBackward0>),\n",
       "  tensor(0.0089, grad_fn=<MeanBackward0>),\n",
       "  tensor(0.0089, grad_fn=<MeanBackward0>),\n",
       "  tensor(0.0089, grad_fn=<MeanBackward0>)],\n",
       " [tensor(0.4811),\n",
       "  tensor(0.3464),\n",
       "  tensor(0.2173),\n",
       "  tensor(0.1446),\n",
       "  tensor(0.1136),\n",
       "  tensor(0.0992),\n",
       "  tensor(0.0889),\n",
       "  tensor(0.0806),\n",
       "  tensor(0.0723),\n",
       "  tensor(0.0647),\n",
       "  tensor(0.0565),\n",
       "  tensor(0.0482),\n",
       "  tensor(0.0406),\n",
       "  tensor(0.0323),\n",
       "  tensor(0.0241),\n",
       "  tensor(0.0165),\n",
       "  tensor(0.0082),\n",
       "  tensor(0.0050),\n",
       "  tensor(0.0050),\n",
       "  tensor(0.0050)])"
      ]
     },
     "execution_count": 20,
     "metadata": {},
     "output_type": "execute_result"
    }
   ],
   "source": [
    "epoch_count, loss_values, test_loss_values"
   ]
  },
  {
   "cell_type": "code",
   "execution_count": 21,
   "id": "ae4280a5",
   "metadata": {},
   "outputs": [
    {
     "data": {
      "image/png": "[encoded data removed]",
      "text/plain": [
       "<Figure size 720x504 with 1 Axes>"
      ]
     },
     "metadata": {
      "needs_background": "light"
     },
     "output_type": "display_data"
    }
   ],
   "source": [
    "with torch.inference_mode():\n",
    "    y_preds_new = model_0(X_test)\n",
    "plot_predictions(predictions = y_preds_new)"
   ]
  },
  {
   "cell_type": "code",
   "execution_count": 22,
   "id": "0aa8e882",
   "metadata": {},
   "outputs": [
    {
     "data": {
      "text/plain": [
       "<matplotlib.legend.Legend at 0x7fd3205ed070>"
      ]
     },
     "execution_count": 22,
     "metadata": {},
     "output_type": "execute_result"
    },
    {
     "data": {
      "image/png": "[encoded data removed]",
      "text/plain": [
       "<Figure size 432x288 with 1 Axes>"
      ]
     },
     "metadata": {
      "needs_background": "light"
     },
     "output_type": "display_data"
    }
   ],
   "source": [
    "import numpy as np\n",
    "#plot the loss curves\n",
    "plt.plot(epoch_count, np.array(torch.tensor(loss_values).numpy()))\n",
    "plt.plot(epoch_count, test_loss_values)\n",
    "plt.title(\"training and test loss curves\")\n",
    "plt.ylabel(\"Loss\")\n",
    "plt.xlabel(\"Epochs\")\n",
    "plt.legend([\"training loss\",\"test loss\"], fontsize = \"x-large\")"
   ]
  },
  {
   "cell_type": "markdown",
   "id": "de16447e",
   "metadata": {},
   "source": [
    "Saving a model in PyTorch\n",
    "\n",
    "Three main methods for saving and loading models\n",
    "\n",
    "*1. 'torch.save()' - allows you to save a PyTorch object in Python's pickle format\n",
    "\n",
    "*2. `torch.load()` allows you to load a saved PyTorch object\n",
    "\n",
    "\n",
    "*3. `torch.nn.Modeule.load_state_dict()` allows you to load a model's saved state dictionary"
   ]
  },
  {
   "cell_type": "code",
   "execution_count": 23,
   "id": "1efdb18e",
   "metadata": {},
   "outputs": [
    {
     "data": {
      "text/plain": [
       "OrderedDict([('weights', tensor([0.6990])), ('bias', tensor([0.3093]))])"
      ]
     },
     "execution_count": 23,
     "metadata": {},
     "output_type": "execute_result"
    }
   ],
   "source": [
    "model_0.state_dict()"
   ]
  },
  {
   "cell_type": "code",
   "execution_count": 24,
   "id": "226c61c8",
   "metadata": {},
   "outputs": [
    {
     "name": "stdout",
     "output_type": "stream",
     "text": [
      "Saving model to: models/Basic_Regression_Model_Pytorch.pth\n"
     ]
    }
   ],
   "source": [
    "from pathlib import Path\n",
    "\n",
    "#Create models directory\n",
    "MODEL_PATH = Path(\"models\")\n",
    "MODEL_PATH.mkdir(parents = True, exist_ok = True)\n",
    "\n",
    "#2. create model save path\n",
    "MODEL_NAME = \"Basic_Regression_Model_Pytorch.pth\"\n",
    "MODEL_SAVE_PATH = MODEL_PATH / MODEL_NAME\n",
    "torch.save(obj = model_0.state_dict(),\n",
    "                 f=MODEL_SAVE_PATH)\n",
    "#MODEL_SAVE_PATH\n",
    "#3. save model state_dict\n",
    "print(f\"Saving model to: {MODEL_SAVE_PATH}\")"
   ]
  },
  {
   "cell_type": "code",
   "execution_count": 25,
   "id": "1cbeb4a1",
   "metadata": {},
   "outputs": [],
   "source": [
    "#If I want to save to current directory rather than a new one, then I do this\n",
    "\n",
    "#import os\n",
    "#MODEL_NAME = \"Basic_Regression_Model_Pytorch.pth\"\n",
    "#MODEL_CURR = Path(os.getcwd())\n",
    "#MODEL_CURR_SAVE = MODEL_CURR / MODEL_NAME\n",
    "#torch.save(obj = model_0.state_dict(),\n",
    "                 #f=MODEL_CURR_SAVE)\n",
    "#print(f\"Saving model to: {MODEL_SAVE_PATH}\")"
   ]
  },
  {
   "cell_type": "code",
   "execution_count": 26,
   "id": "3cd98e58",
   "metadata": {},
   "outputs": [
    {
     "name": "stdout",
     "output_type": "stream",
     "text": [
      "total 8\r\n",
      "-rw-r--r--  1 yashpatel  staff  1219 Apr 15 18:36 Basic_Regression_Model_Pytorch.pth\r\n"
     ]
    }
   ],
   "source": [
    "ls -l models"
   ]
  },
  {
   "cell_type": "markdown",
   "id": "3c629359",
   "metadata": {},
   "source": [
    "### loading a PyTorch model\n",
    "Since we saved our model's `state_dict()` rather than the entire model, we'll cerate a new instance of ourmodel class and load the saved `state_dict()` into that"
   ]
  },
  {
   "cell_type": "code",
   "execution_count": 27,
   "id": "bbb5a965",
   "metadata": {},
   "outputs": [
    {
     "data": {
      "text/plain": [
       "OrderedDict([('weights', tensor([0.3367])), ('bias', tensor([0.1288]))])"
      ]
     },
     "execution_count": 27,
     "metadata": {},
     "output_type": "execute_result"
    }
   ],
   "source": [
    "#To load in a saved state_dict, instantiate a new instance of our model class\n",
    "loaded_model_0 = LinearRegressionModel()\n",
    "\n",
    "#Load the saved state_dict of model_0\n",
    "loaded_model_0.state_dict()"
   ]
  },
  {
   "cell_type": "code",
   "execution_count": 28,
   "id": "15594490",
   "metadata": {},
   "outputs": [
    {
     "data": {
      "text/plain": [
       "<All keys matched successfully>"
      ]
     },
     "execution_count": 28,
     "metadata": {},
     "output_type": "execute_result"
    }
   ],
   "source": [
    "loaded_model_0.load_state_dict(torch.load(f=MODEL_SAVE_PATH))"
   ]
  },
  {
   "cell_type": "code",
   "execution_count": 29,
   "id": "34bfd28f",
   "metadata": {},
   "outputs": [
    {
     "data": {
      "text/plain": [
       "OrderedDict([('weights', tensor([0.6990])), ('bias', tensor([0.3093]))])"
      ]
     },
     "execution_count": 29,
     "metadata": {},
     "output_type": "execute_result"
    }
   ],
   "source": [
    "loaded_model_0.state_dict()"
   ]
  },
  {
   "cell_type": "code",
   "execution_count": 30,
   "id": "0b0e39db",
   "metadata": {},
   "outputs": [
    {
     "data": {
      "text/plain": [
       "tensor([[0.8685],\n",
       "        [0.8825],\n",
       "        [0.8965],\n",
       "        [0.9105],\n",
       "        [0.9245],\n",
       "        [0.9384],\n",
       "        [0.9524],\n",
       "        [0.9664],\n",
       "        [0.9804],\n",
       "        [0.9944]])"
      ]
     },
     "execution_count": 30,
     "metadata": {},
     "output_type": "execute_result"
    }
   ],
   "source": [
    "#Make predictions with loaded model\n",
    "with torch.inference_mode():\n",
    "    loaded_model_preds = loaded_model_0(X_test)\n",
    "loaded_model_preds"
   ]
  },
  {
   "cell_type": "code",
   "execution_count": 36,
   "id": "0c10f880",
   "metadata": {},
   "outputs": [
    {
     "data": {
      "text/plain": [
       "tensor([[True],\n",
       "        [True],\n",
       "        [True],\n",
       "        [True],\n",
       "        [True],\n",
       "        [True],\n",
       "        [True],\n",
       "        [True],\n",
       "        [True],\n",
       "        [True]])"
      ]
     },
     "execution_count": 36,
     "metadata": {},
     "output_type": "execute_result"
    }
   ],
   "source": [
    "#Make some model preds\n",
    "model_0.eval()\n",
    "with torch.inference_mode():\n",
    "    model_preds=model_0(X_test)\n",
    "model_preds == loaded_model_preds"
   ]
  },
  {
   "cell_type": "markdown",
   "id": "dba6cc36",
   "metadata": {},
   "source": [
    "### Putting it all together\n",
    "Seeing it all in one place"
   ]
  },
  {
   "cell_type": "code",
   "execution_count": 38,
   "id": "910d7074",
   "metadata": {},
   "outputs": [
    {
     "data": {
      "text/plain": [
       "'2.0.0'"
      ]
     },
     "execution_count": 38,
     "metadata": {},
     "output_type": "execute_result"
    }
   ],
   "source": [
    "# import torch\n",
    "from torch import nn\n",
    "import matplotlib.pyplot as plt\n",
    "\n",
    "#check pytorch version\n",
    "torch.__version__"
   ]
  },
  {
   "cell_type": "raw",
   "id": "c776e330",
   "metadata": {},
   "source": [
    "Creating device agnostic code"
   ]
  },
  {
   "cell_type": "code",
   "execution_count": 43,
   "id": "65f7f0a5",
   "metadata": {},
   "outputs": [
    {
     "name": "stdout",
     "output_type": "stream",
     "text": [
      "Using device: mps\n"
     ]
    }
   ],
   "source": [
    "device = \"mps\" if torch.backends.mps.is_available() else \"cpu\"\n",
    "print(f\"Using device: {device}\")"
   ]
  },
  {
   "cell_type": "code",
   "execution_count": 45,
   "id": "2359f325",
   "metadata": {},
   "outputs": [
    {
     "data": {
      "text/plain": [
       "(tensor([[0.0000],\n",
       "         [0.0200],\n",
       "         [0.0400],\n",
       "         [0.0600],\n",
       "         [0.0800],\n",
       "         [0.1000],\n",
       "         [0.1200],\n",
       "         [0.1400],\n",
       "         [0.1600],\n",
       "         [0.1800]]),\n",
       " tensor([[0.3000],\n",
       "         [0.3140],\n",
       "         [0.3280],\n",
       "         [0.3420],\n",
       "         [0.3560],\n",
       "         [0.3700],\n",
       "         [0.3840],\n",
       "         [0.3980],\n",
       "         [0.4120],\n",
       "         [0.4260]]))"
      ]
     },
     "execution_count": 45,
     "metadata": {},
     "output_type": "execute_result"
    }
   ],
   "source": [
    "#Creating data using linear regression formula y = weight*features + bias\n",
    "weight = 0.7\n",
    "bias = 0.3\n",
    "start = 0\n",
    "end = 1\n",
    "step = 0.02\n",
    "\n",
    "X = torch.arange(start,end,step).unsqueeze(dim = 1)\n",
    "y=weight* X + bias\n",
    "X[:10], y[:10]\n"
   ]
  },
  {
   "cell_type": "code",
   "execution_count": null,
   "id": "8568e33c",
   "metadata": {},
   "outputs": [],
   "source": [
    "#Split the data\n",
    "train_split = int(0.8 * len(x))\n",
    "X_train, y_train = X[:train_split], y[:train_split]\n",
    "X_test, y_test = X[train_split:],y[train_split:]\n"
   ]
  }
 ],
 "metadata": {
  "kernelspec": {
   "display_name": "Python 3 (ipykernel)",
   "language": "python",
   "name": "python3"
  },
  "language_info": {
   "codemirror_mode": {
    "name": "ipython",
    "version": 3
   },
   "file_extension": ".py",
   "mimetype": "text/x-python",
   "name": "python",
   "nbconvert_exporter": "python",
   "pygments_lexer": "ipython3",
   "version": "3.9.12"
  }
 },
 "nbformat": 4,
 "nbformat_minor": 5
}
